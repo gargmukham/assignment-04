{
  "nbformat": 4,
  "nbformat_minor": 0,
  "metadata": {
    "colab": {
      "provenance": []
    },
    "kernelspec": {
      "name": "python3",
      "display_name": "Python 3"
    },
    "language_info": {
      "name": "python"
    }
  },
  "cells": [
    {
      "cell_type": "markdown",
      "source": [
        "#**Assignment-04**"
      ],
      "metadata": {
        "id": "0CEkK_kyNluP"
      }
    },
    {
      "cell_type": "markdown",
      "source": [
        "I've selected the \"Iris\" dataset from the UCI Machine Learning Repository, which is also available on Kaggle. This classic dataset contains measurements of iris flowers from three different species: Setosa, Versicolor, and Virginica.\n",
        "\n",
        "#**First 5 Rows of the Dataset:**"
      ],
      "metadata": {
        "id": "cewGr87HNruy"
      }
    },
    {
      "cell_type": "code",
      "source": [
        "import pandas as pd\n",
        "\n",
        "# Load the dataset\n",
        "url = \"https://archive.ics.uci.edu/ml/machine-learning-databases/iris/iris.data\"\n",
        "column_names = [\"sepal_length\", \"sepal_width\", \"petal_length\", \"petal_width\", \"species\"]\n",
        "data = pd.read_csv(url, header=None, names=column_names)\n",
        "\n",
        "# Display the first 5 rows\n",
        "print(data.head())\n"
      ],
      "metadata": {
        "colab": {
          "base_uri": "https://localhost:8080/"
        },
        "id": "OMv1GBuqOHEt",
        "outputId": "e217b182-46c5-4579-d6e2-03c76e40e237"
      },
      "execution_count": 1,
      "outputs": [
        {
          "output_type": "stream",
          "name": "stdout",
          "text": [
            "   sepal_length  sepal_width  petal_length  petal_width      species\n",
            "0           5.1          3.5           1.4          0.2  Iris-setosa\n",
            "1           4.9          3.0           1.4          0.2  Iris-setosa\n",
            "2           4.7          3.2           1.3          0.2  Iris-setosa\n",
            "3           4.6          3.1           1.5          0.2  Iris-setosa\n",
            "4           5.0          3.6           1.4          0.2  Iris-setosa\n"
          ]
        }
      ]
    },
    {
      "cell_type": "markdown",
      "source": [
        "Dataset Shape:"
      ],
      "metadata": {
        "id": "efhbh9itOhj7"
      }
    },
    {
      "cell_type": "code",
      "source": [
        "print(data.shape)"
      ],
      "metadata": {
        "colab": {
          "base_uri": "https://localhost:8080/"
        },
        "id": "5kwh4f32OjlI",
        "outputId": "e0d2199f-69f1-4b02-db4b-da5448a80530"
      },
      "execution_count": 2,
      "outputs": [
        {
          "output_type": "stream",
          "name": "stdout",
          "text": [
            "(150, 5)\n"
          ]
        }
      ]
    },
    {
      "cell_type": "markdown",
      "source": [
        "100 Real-World Questions Solvable with Numpy, Pandas, Matplotlib, and Seaborn:\n",
        "\n",
        "1.What is the average sepal length for each species?\n",
        "\n",
        "2.What is the average sepal width for each species?\n",
        "\n",
        "3.What is the average petal length for each species?\n",
        "\n",
        "4.What is the average petal width for each species?\n",
        "\n",
        "5.What is the overall average sepal length?\n",
        "\n",
        "6.What is the overall average sepal width?\n",
        "\n",
        "7.What is the overall average petal length?\n",
        "\n",
        "8.What is the overall average petal width?\n",
        "\n",
        "9.What is the median sepal length for each species?\n",
        "\n",
        "10.What is the median sepal width for each species?\n",
        "\n",
        "11.What is the median petal length for each species?\n",
        "\n",
        "12.What is the median petal width for each species?\n",
        "\n",
        "13.What is the overall median sepal length?\n",
        "\n",
        "14.What is the overall median sepal width?\n",
        "\n",
        "15.What is the overall median petal length?\n",
        "\n",
        "16.What is the overall median petal width?\n",
        "\n",
        "17.What is the standard deviation of sepal length for each species?\n",
        "\n",
        "18.What is the standard deviation of sepal width for each species?\n",
        "\n",
        "19.What is the standard deviation of petal length for each species?\n",
        "\n",
        "20.What is the standard deviation of petal width for each species?\n",
        "\n",
        "21.What is the overall standard deviation of sepal length?\n",
        "\n",
        "22.What is the overall standard deviation of sepal width?\n",
        "\n",
        "23.What is the overall standard deviation of petal length?\n",
        "\n",
        "24.What is the overall standard deviation of petal width?\n",
        "\n",
        "25.What is the minimum sepal length for each species?\n",
        "\n",
        "26.What is the minimum sepal width for each species?\n",
        "\n",
        "27.What is the minimum petal length for each species?\n",
        "\n",
        "28.What is the minimum petal width for each species?\n",
        "\n",
        "29.What is the maximum sepal length for each species?\n",
        "\n",
        "30.What is the maximum sepal width for each species?\n",
        "\n",
        "31.What is the maximum petal length for each species?\n",
        "\n",
        "32.What is the maximum petal width for each species?\n",
        "\n",
        "33.What is the overall minimum sepal length?\n",
        "\n",
        "34.What is the overall minimum sepal width?\n",
        "\n",
        "35.What is the overall minimum petal length?\n",
        "\n",
        "36.What is the overall minimum petal width?\n",
        "\n",
        "37.What is the overall maximum sepal length?\n",
        "\n",
        "38.What is the overall maximum sepal width?\n",
        "\n",
        "39.What is the overall maximum petal length?\n",
        "\n",
        "40.What is the overall maximum petal width?\n",
        "\n",
        "41.What is the range of sepal length for each species?\n",
        "\n",
        "42.What is the range of sepal width for each species?\n",
        "\n",
        "43.What is the range of petal length for each species?\n",
        "\n",
        "44.What is the range of petal width for each species?\n",
        "\n",
        "45.What is the overall range of sepal length?\n",
        "\n",
        "46.What is the overall range of sepal width?\n",
        "\n",
        "47.What is the overall range of petal length?\n",
        "\n",
        "48.What is the overall range of petal width?\n",
        "\n",
        "49.What is the interquartile range (IQR) of sepal length for each species?\n",
        "\n",
        "50.What is the interquartile range (IQR) of sepal width for each species?\n",
        "\n",
        "#**Descriptive Statistics & Data Exploration**\n",
        "\n",
        "\n",
        "51.What is the correlation between sepal length and sepal width?\n",
        "\n",
        "52.What is the correlation between petal length and petal width?\n",
        "\n",
        "53.What is the correlation between sepal length and petal length?\n",
        "\n",
        "54.What is the correlation between sepal width and petal width?\n",
        "\n",
        "55.What is the species-wise correlation between different features?\n",
        "\n",
        "56.How many samples belong to each species?\n",
        "\n",
        "57.Are there any duplicate rows in the dataset?\n",
        "\n",
        "58.Are there any missing values in the dataset?\n",
        "\n",
        "59.What are the summary statistics for each feature in the dataset?\n",
        "\n",
        "60.What is the coefficient of variation for each species?\n",
        "\n",
        "#**Data Visualization - Univariate Analysis**\n",
        "\n",
        "\n",
        "61.Plot the distribution of sepal length for each species.\n",
        "\n",
        "62.Plot the distribution of sepal width for each species.\n",
        "\n",
        "63.Plot the distribution of petal length for each species.\n",
        "\n",
        "64.Plot the distribution of petal width for each species.\n",
        "\n",
        "65.Create a histogram for sepal length.\n",
        "\n",
        "66.Create a histogram for sepal width.\n",
        "\n",
        "67.Create a histogram for petal length.\n",
        "\n",
        "68.Create a histogram for petal width.\n",
        "\n",
        "69.Create a boxplot for sepal length across species.\n",
        "\n",
        "70.Create a boxplot for sepal width across species.\n",
        "\n",
        "71.Create a boxplot for petal length across species.\n",
        "\n",
        "72.Create a boxplot for petal width across species.\n",
        "\n",
        "73.Create a violin plot for sepal length.\n",
        "\n",
        "74.Create a violin plot for petal length.\n",
        "\n",
        "75.Create a KDE (Kernel Density Estimation) plot for petal width.\n",
        "\n",
        "#**Data Visualization - Bivariate Analysis**\n",
        "\n",
        "\n",
        "76.Create a scatter plot of sepal length vs. sepal width for all species.\n",
        "\n",
        "77.Create a scatter plot of petal length vs. petal width for all species.\n",
        "\n",
        "78.Create a scatter plot of sepal length vs. petal length for all species.\n",
        "\n",
        "79.Create a scatter plot of sepal width vs. petal width for all species.\n",
        "\n",
        "80.Create pair plots to visualize relationships between all features.\n",
        "\n",
        "81.Create a heatmap of the correlation matrix between numerical features.\n",
        "\n",
        "82.Create a count plot to show the number of samples per species.\n",
        "\n",
        "83.Create a swarm plot to visualize petal length across species.\n",
        "\n",
        "84.Create a hexbin plot for sepal width and petal width.\n",
        "\n",
        "85.Create a stacked bar chart for species distribution.\n",
        "\n",
        "\n",
        "#**Data Transformation & Feature Engineering**\n",
        "\n",
        "86.Normalize the sepal length feature using Min-Max scaling.\n",
        "\n",
        "87.Standardize the petal width feature using Z-score normalization.\n",
        "\n",
        "88.Create a new feature that is the ratio of petal length to petal width.\n",
        "\n",
        "89.Create a new feature that is the product of sepal length and sepal width.\n",
        "\n",
        "90.Discretize the sepal length into categories (small, medium, large).\n",
        "\n",
        "91.Find outliers in petal length using the IQR method.\n",
        "\n",
        "92.Find outliers in sepal width using the Z-score method.\n",
        "\n",
        "93.Perform Principal Component Analysis (PCA) on the dataset.\n",
        "\n",
        "94.Reduce the dataset dimensions using PCA and visualize it in 2D.\n",
        "\n",
        "95.Convert categorical species names into numerical labels.\n",
        "\n",
        "96.Encode species names using one-hot encoding.\n",
        "\n",
        "97.Find the top two features that contribute the most to species classification.\n",
        "\n",
        "98.Identify the most important feature in differentiating species.\n",
        "\n",
        "99.Build a simple logistic regression model to classify species.\n",
        "\n",
        "100.Evaluate the logistic regression model’s accuracy using cross-validation."
      ],
      "metadata": {
        "id": "9e0q0RLaOudm"
      }
    },
    {
      "cell_type": "code",
      "source": [],
      "metadata": {
        "id": "QRboJkGKVghS"
      },
      "execution_count": null,
      "outputs": []
    }
  ]
}